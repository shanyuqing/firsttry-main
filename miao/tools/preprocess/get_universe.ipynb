{
 "cells": [
  {
   "cell_type": "code",
   "execution_count": 1,
   "metadata": {},
   "outputs": [
    {
     "name": "stdout",
     "output_type": "stream",
     "text": [
      "working dir: /home/yuheng/mydata_mgmt/nerv_ml/tools\n"
     ]
    }
   ],
   "source": [
    "import os\n",
    "os.chdir('..')\n",
    "print('working dir:', os.getcwd())\n",
    "\n",
    "import sys\n",
    "import pandas as pd\n",
    "import numpy as np\n",
    "import polars as pl\n",
    "import datetime\n",
    "\n",
    "raw_data_path = '/mnt/datassd2/crypto/15minbar'  \n",
    "data_save_path = '/mnt/datassd2/crypto/dl_data/'\n",
    "df = pl.scan_parquet(raw_data_path).collect()"
   ]
  },
  {
   "cell_type": "code",
   "execution_count": 2,
   "metadata": {},
   "outputs": [],
   "source": [
    "# 实盘需要cut最新数据\n",
    "df = df.filter(pl.col('datetime') > datetime.datetime(2024, 1, 1))\n",
    "df = df.sort(by='datetime')"
   ]
  },
  {
   "cell_type": "code",
   "execution_count": 3,
   "metadata": {},
   "outputs": [],
   "source": [
    "las = ['la1', 'la2', 'la5', 'la10', 'la15', 'la30', 'la60', 'la120', 'la180', 'la240', 'la300', 'la360']\n",
    "\n",
    "def ema(col, length=100)->pl.Expr:\n",
    "    target_col = pl.col(col)\n",
    "    ema = target_col.ewm_mean(span=length)\n",
    "    ema_reduced = target_col / ema\n",
    "    return ema_reduced\n",
    "\n",
    "def p_change(col, length=1)->pl.Expr:\n",
    "    '''变化率，percentage change'''\n",
    "    clip_col = pl.col(col).clip(lower_bound=1e-5)  # todo 加一个动态下界\n",
    "    target_col = clip_col.log()\n",
    "    return target_col - target_col.shift(length)\n",
    "\n",
    "def zscore(col, length=100)->pl.Expr:\n",
    "    '''zscore'''\n",
    "    target_col = pl.col(col)\n",
    "    mean = target_col.rolling_mean(length)\n",
    "    std = target_col.rolling_std(length)\n",
    "    zscore = (target_col - mean) / std\n",
    "    zscore = zscore.clip(-4, 4)\n",
    "    return zscore\n",
    "\n",
    "raw_pldf = df.with_columns(\n",
    "    ema('close', 100).over('symbol').alias('ema'),\n",
    "    p_change('close', 1).over('symbol').alias('p_change'),\n",
    "    zscore('close', 100).over('symbol').alias('zscore'),\n",
    "    ema('amount', 100).over('symbol').alias('ema_amt'),\n",
    "    p_change('amount', 1).over('symbol').alias('p_change_amt'),\n",
    "    zscore('amount', 100).over('symbol').alias('zscore_amt')\n",
    "    )\n",
    "\n",
    "pldf = raw_pldf.filter(pl.col('amount') > 0)\n",
    "\n",
    "feats = ['ema', 'p_change', 'zscore', 'ema_amt', 'p_change_amt', 'zscore_amt']\n",
    "cols = feats + las + ['symbol', 'datetime', 'date', 'close']\n",
    "pldf = pldf.select(cols)\n",
    "pldf = pldf.unique(subset=[\"symbol\", \"datetime\"], maintain_order=True)"
   ]
  },
  {
   "cell_type": "code",
   "execution_count": 4,
   "metadata": {},
   "outputs": [],
   "source": [
    "la_df = pldf.to_pandas().pivot(index='datetime', columns='symbol', values='la240')\n",
    "la_df.fillna(0, inplace=True)\n"
   ]
  },
  {
   "cell_type": "code",
   "execution_count": 5,
   "metadata": {},
   "outputs": [
    {
     "name": "stdout",
     "output_type": "stream",
     "text": [
      "['BTCUSDT', 'ETHUSDT', 'SOLUSDT', 'DOGEUSDT', 'XRPUSDT', '1000PEPEUSDT', 'BNBUSDT', 'SUIUSDT', '1000SHIBUSDT', 'WLDUSDT', 'ADAUSDT', 'ORDIUSDT', 'AVAXUSDT', 'LINKUSDT', 'LTCUSDT', 'BCHUSDT', 'FILUSDT', '1000BONKUSDT', 'NEARUSDT', 'ARBUSDT', 'PEOPLEUSDT', 'TIAUSDT', 'APTUSDT', 'DOTUSDT', '1000FLOKIUSDT', 'OPUSDT', 'ETCUSDT', 'FETUSDT', 'TRBUSDT', 'HBARUSDT', 'SEIUSDT', 'XLMUSDT', 'UNIUSDT', 'GALAUSDT', 'INJUSDT', '1000SATSUSDT', 'AAVEUSDT', 'ENSUSDT', 'APEUSDT', 'CRVUSDT', 'SANDUSDT', 'STXUSDT', 'EOSUSDT', 'TRXUSDT', 'JTOUSDT', 'LDOUSDT', 'ATOMUSDT', 'GMTUSDT', 'RUNEUSDT', 'JASMYUSDT', 'DYDXUSDT', 'MASKUSDT', 'PENDLEUSDT', 'ICPUSDT', '1000RATSUSDT', 'CKBUSDT', 'BIGTIMEUSDT', 'ARKMUSDT', 'ALGOUSDT', 'CFXUSDT', 'MEMEUSDT', 'PYTHUSDT', 'UMAUSDT', 'BLURUSDT', 'POLYXUSDT', 'ARUSDT', 'LPTUSDT', 'THETAUSDT', 'NEOUSDT', 'MKRUSDT', 'CHZUSDT', '1000LUNCUSDT', 'BNXUSDT', 'GRTUSDT', 'AGLDUSDT', 'IDUSDT', 'YGGUSDT', 'AXSUSDT', 'API3USDT', 'RSRUSDT', 'ZENUSDT', 'HIGHUSDT', 'ZRXUSDT', 'SUSHIUSDT', 'VETUSDT', 'BAKEUSDT', 'XVGUSDT', 'MANAUSDT', 'SPELLUSDT', 'CELOUSDT', 'MINAUSDT', 'POWRUSDT', 'ONGUSDT', 'IOTAUSDT', 'COTIUSDT', 'LUNA2USDT', 'ONTUSDT', 'IMXUSDT', 'ARKUSDT', 'STORJUSDT', 'AUCTIONUSDT', 'GASUSDT', 'SSVUSDT', 'XTZUSDT', 'ACEUSDT', 'NFPUSDT', 'ATAUSDT', 'ACHUSDT', 'SXPUSDT', 'COMPUSDT', 'BELUSDT', 'CAKEUSDT', 'BEAMXUSDT', 'TOKENUSDT', 'QTUMUSDT', 'KASUSDT', 'SUPERUSDT', 'LEVERUSDT', '1INCHUSDT', 'FLOWUSDT']\n"
     ]
    }
   ],
   "source": [
    "# 实盘池子\n",
    "amt_df = raw_pldf.to_pandas().pivot(index='datetime', columns='symbol', values='amount')\n",
    "amt_df.fillna(0, inplace=True)\n",
    "# amt_df = amt_df[amt_df.index > pd.Timestamp('2024-01-01')]\n",
    "\n",
    "# 空值尽可能少\n",
    "not_null_cols = (amt_df != 0 ).sum()\n",
    "not_null_cols = not_null_cols[not_null_cols>=33000]\n",
    "amt_df = amt_df[not_null_cols.index]\n",
    "\n",
    "large_rank_cols = amt_df.sum().sort_values(ascending=False)[:120].index\n",
    "print(list(large_rank_cols))"
   ]
  },
  {
   "cell_type": "code",
   "execution_count": 6,
   "metadata": {},
   "outputs": [],
   "source": [
    "# 实盘：结合Currency_picking.ipynb 筛选了近期活跃的symbol\n",
    "used_cols = ['DOTUSDT', 'SEIUSDT', 'TRXUSDT', 'AUCTIONUSDT', 'ACHUSDT', 'INJUSDT', 'ARBUSDT', 'XRPUSDT', 'APTUSDT', '1000BONKUSDT', 'ARKUSDT', 'DOGEUSDT', 'AAVEUSDT', 'CAKEUSDT', 'UNIUSDT', 'GALAUSDT', 'ARKMUSDT', '1000SHIBUSDT', 'JTOUSDT', 'NEARUSDT', 'ETCUSDT', 'CRVUSDT', 'XLMUSDT', 'RUNEUSDT', 'ETHUSDT', 'SANDUSDT', 'FILUSDT', 'APEUSDT', 'LDOUSDT', 'AVAXUSDT', 'ZENUSDT', 'FETUSDT', 'BAKEUSDT', 'EOSUSDT', 'BNBUSDT', 'ORDIUSDT', 'MKRUSDT', 'SUIUSDT', '1000SATSUSDT', 'BTCUSDT', 'BCHUSDT', 'ALGOUSDT', 'HBARUSDT', 'OPUSDT', '1000FLOKIUSDT', 'ADAUSDT', 'ATOMUSDT', 'WLDUSDT', 'TIAUSDT', '1000PEPEUSDT']\n",
    "pldf = pldf.filter(pl.col('symbol').is_in(used_cols))"
   ]
  },
  {
   "cell_type": "code",
   "execution_count": 7,
   "metadata": {},
   "outputs": [],
   "source": [
    "pldf = pldf.drop_nulls()\n",
    "pldf = pldf.with_columns(\n",
    "    pl.concat_list(feats).alias(\"feats\")\n",
    ")\n",
    "pivot_feats = pldf.pivot(on=\"symbol\",index=\"datetime\", values=\"feats\", maintain_order=True)"
   ]
  },
  {
   "cell_type": "markdown",
   "metadata": {},
   "source": [
    "## 保存数据\n",
    "\n",
    "1. eod_data(cs_data)\n",
    "- 处理 eod_data (S,T,F) = (n_stock, n_datetime, n_feats)  \n",
    "- 维护一个字典，映射 S,T,F 到对应的股票代码/日期/特征，后续预测值通过这个字典可以反向映射回原dataframe\n",
    "\n",
    "2. mask_data\n",
    "- 把eod == null的处理为mask\n",
    "\n",
    "3. gt_data(return_data)\n",
    "- 取la15存起来就行\n",
    "4. extra_data 其他数据\n",
    "- symbols 顺序\n",
    "- dt 顺序"
   ]
  },
  {
   "cell_type": "code",
   "execution_count": 8,
   "metadata": {},
   "outputs": [],
   "source": [
    "exp_symbols = pivot_feats.columns\n",
    "exp_symbols.remove('datetime')\n",
    "exp_dt = pivot_feats['datetime']\n",
    "extra_data = {\n",
    "    'symbols': exp_symbols,\n",
    "    'dt': exp_dt.to_list()\n",
    "}\n",
    "\n",
    "pivot_feats = pivot_feats.drop('datetime')\n",
    "\n",
    "# task2. 得到mask_data\n",
    "mask_data = pivot_feats.with_columns(\n",
    "    pl.col(s).is_null().not_() for s in exp_symbols\n",
    ").to_numpy()\n",
    "mask_data = mask_data.T\n",
    "\n",
    "pivot_feats = pivot_feats.with_columns(\n",
    "    pl.col(s).fill_null([0.] * len(feats)) for s in exp_symbols\n",
    ")\n",
    "# task1. 得到cs_feats_data, \n",
    "feats_numpy = pivot_feats.to_numpy()\n",
    "feats_array = np.array([np.stack(sublist, axis=1) for sublist in feats_numpy])\n",
    "feats_array = feats_array.transpose(2, 0, 1)   # shape: (n_symbols, n_T,  n_feats)\n",
    "\n",
    "# task3 得到la240_data\n",
    "la_data =  pldf.pivot(on=\"symbol\",index=\"datetime\", values=\"la60\", maintain_order=True)\n",
    "la_data = la_data.drop('datetime')\n",
    "la_array = la_data.fill_null(0.).to_numpy()\n",
    "la_array = la_array.T"
   ]
  },
  {
   "cell_type": "code",
   "execution_count": 9,
   "metadata": {},
   "outputs": [
    {
     "name": "stdout",
     "output_type": "stream",
     "text": [
      "feats_array.shape: (50, 39308, 6)\n",
      "mask_data.shape: (50, 39308)\n",
      "la15_array.shape: (50, 39308)\n"
     ]
    }
   ],
   "source": [
    "print('feats_array.shape:', feats_array.shape)\n",
    "print('mask_data.shape:', mask_data.shape)\n",
    "print('la15_array.shape:', la_array.shape)"
   ]
  },
  {
   "cell_type": "code",
   "execution_count": 10,
   "metadata": {},
   "outputs": [
    {
     "name": "stdout",
     "output_type": "stream",
     "text": [
      "save to: /mnt/datassd2/crypto/dl_data/stock_mix_data\n"
     ]
    }
   ],
   "source": [
    "dataset_path = data_save_path + 'stock_mix_data'\n",
    "# mkdir\n",
    "if not os.path.exists(dataset_path):\n",
    "    os.makedirs(dataset_path)\n",
    "print('save to:', dataset_path)"
   ]
  },
  {
   "cell_type": "code",
   "execution_count": 11,
   "metadata": {},
   "outputs": [],
   "source": [
    "import pickle\n",
    "\n",
    "with open(os.path.join(dataset_path, \"cs_data.pkl\"), 'wb') as f:\n",
    "    pickle.dump(feats_array, f)\n",
    "with open(os.path.join(dataset_path, \"mask_data.pkl\"), 'wb') as f:\n",
    "    pickle.dump(mask_data, f)\n",
    "with open(os.path.join(dataset_path, \"la15_data.pkl\"), 'wb') as f:\n",
    "    pickle.dump(la_array, f)\n",
    "with open(os.path.join(dataset_path, \"extra_data.pkl\"), 'wb') as f:\n",
    "    pickle.dump(extra_data, f)"
   ]
  },
  {
   "cell_type": "code",
   "execution_count": 12,
   "metadata": {},
   "outputs": [
    {
     "data": {
      "text/plain": [
       "39308"
      ]
     },
     "execution_count": 12,
     "metadata": {},
     "output_type": "execute_result"
    }
   ],
   "source": [
    "len(extra_data['dt'])"
   ]
  },
  {
   "cell_type": "code",
   "execution_count": 13,
   "metadata": {},
   "outputs": [
    {
     "data": {
      "text/plain": [
       "(50, 39308)"
      ]
     },
     "execution_count": 13,
     "metadata": {},
     "output_type": "execute_result"
    }
   ],
   "source": [
    "mask_data.shape"
   ]
  },
  {
   "cell_type": "code",
   "execution_count": 14,
   "metadata": {},
   "outputs": [
    {
     "data": {
      "text/plain": [
       "[datetime.datetime(2024, 6, 6, 7, 0),\n",
       " datetime.datetime(2024, 6, 6, 7, 15),\n",
       " datetime.datetime(2024, 6, 6, 7, 30),\n",
       " datetime.datetime(2024, 6, 6, 7, 45),\n",
       " datetime.datetime(2024, 6, 6, 8, 0),\n",
       " datetime.datetime(2024, 6, 6, 8, 15),\n",
       " datetime.datetime(2024, 6, 6, 8, 30),\n",
       " datetime.datetime(2024, 6, 6, 8, 45),\n",
       " datetime.datetime(2024, 6, 6, 9, 0),\n",
       " datetime.datetime(2024, 6, 6, 9, 15)]"
      ]
     },
     "execution_count": 14,
     "metadata": {},
     "output_type": "execute_result"
    }
   ],
   "source": [
    "extra_data['dt'][15000:15010]"
   ]
  },
  {
   "cell_type": "code",
   "execution_count": 15,
   "metadata": {},
   "outputs": [
    {
     "data": {
      "text/plain": [
       "[datetime.datetime(2025, 2, 14, 15, 30),\n",
       " datetime.datetime(2025, 2, 14, 15, 45),\n",
       " datetime.datetime(2025, 2, 14, 16, 0),\n",
       " datetime.datetime(2025, 2, 14, 16, 15),\n",
       " datetime.datetime(2025, 2, 14, 16, 30),\n",
       " datetime.datetime(2025, 2, 14, 16, 45),\n",
       " datetime.datetime(2025, 2, 14, 17, 0),\n",
       " datetime.datetime(2025, 2, 14, 17, 15),\n",
       " datetime.datetime(2025, 2, 14, 17, 30),\n",
       " datetime.datetime(2025, 2, 14, 17, 45)]"
      ]
     },
     "execution_count": 15,
     "metadata": {},
     "output_type": "execute_result"
    }
   ],
   "source": [
    "extra_data['dt'][-10:]"
   ]
  },
  {
   "cell_type": "code",
   "execution_count": 16,
   "metadata": {},
   "outputs": [
    {
     "name": "stdout",
     "output_type": "stream",
     "text": [
      "extra_data.keys():  dict_keys(['symbols', 'dt'])\n",
      "len(extra_data['dt']):  39308\n",
      "len(extra_data['symbols']):  50\n"
     ]
    }
   ],
   "source": [
    "print('extra_data.keys(): ', extra_data.keys())\n",
    "print('len(extra_data[\\'dt\\']): ', len(extra_data['dt']))\n",
    "print('len(extra_data[\\'symbols\\']): ', len(extra_data['symbols']))"
   ]
  },
  {
   "cell_type": "markdown",
   "metadata": {},
   "source": [
    "## 预处理MLP用的截面数据"
   ]
  },
  {
   "cell_type": "code",
   "execution_count": 23,
   "metadata": {},
   "outputs": [],
   "source": [
    "import numpy as np\n",
    "import os\n",
    "import pickle\n",
    "import polars as pl\n",
    "\n",
    "def ema(col, length=100)->pl.Expr:\n",
    "    target_col = pl.col(col)\n",
    "    ema = target_col.ewm_mean(span=length)\n",
    "    ema_reduced = target_col / ema\n",
    "    return ema_reduced  \n",
    "\n",
    "def featclip(feat: pl.Expr) -> pl.Expr:\n",
    "    \"\"\"\n",
    "    1 filter quantile 0.01~0.99\n",
    "    \"\"\"\n",
    "    featclip = feat.clip(\n",
    "        feat.quantile(0.01),\n",
    "        feat.quantile(0.99),\n",
    "    )\n",
    "    return sanitise(featclip)\n",
    "\n",
    "def sanitise(pl_col) -> pl.Expr:\n",
    "    \"\"\"\n",
    "    replace inf, -inf, NaN, and null to 0\n",
    "    \"\"\"\n",
    "    return (\n",
    "        pl.when(pl_col.is_infinite() | pl_col.is_nan() | pl_col.is_null())\n",
    "        .then(0)\n",
    "        .otherwise(pl_col)\n",
    "    )\n",
    "\n",
    "df = pl.scan_parquet(raw_data_path)\n",
    "df = df.filter(pl.col('datetime') > datetime.datetime(2024, 1, 1))\n",
    "df = df.sort(by='datetime')\n",
    "\n",
    "las = ['la1', 'la2', 'la5', 'la10', 'la15', 'la30', 'la60', 'la120', 'la180', 'la240', 'la300', 'la360']\n",
    "df = df.with_columns([featclip(pl.col(la)).alias(la) for la in las])\n",
    "df = df.with_columns(ema('close', 100).over('symbol').alias('ema'),)\n",
    "df = df.collect().to_pandas()\n",
    "df.drop_duplicates(subset=['datetime', 'symbol'], keep='first', inplace=True)\n",
    "factors_df = df.pivot(index='datetime', columns='symbol', values='ema')\n",
    "la_df = df.pivot(index='datetime', columns='symbol', values='la60')\n",
    "factors_df.fillna(0, inplace=True)\n",
    "la_df.fillna(0, inplace=True)\n",
    "#矩阵过于稀疏，取出现次数最多的50个symbol\n",
    "# large_rank_cols = (la_df != 0 ).sum().sort_values(ascending=False)[:50].index\n",
    "used_cols = used_cols  # todo 整理代码\n",
    "factors_df_top50 = factors_df[large_rank_cols].copy()\n",
    "la_df_top50 = la_df[large_rank_cols].copy()\n",
    "X = factors_df_top50\n",
    "y = la_df_top50\n",
    "\n",
    "exp_symbols = X.columns\n",
    "exp_dt = X.index.values\n",
    "extra_data = {\n",
    "    'symbols': exp_symbols,\n",
    "    'dt': exp_dt\n",
    "}"
   ]
  },
  {
   "cell_type": "code",
   "execution_count": 24,
   "metadata": {},
   "outputs": [
    {
     "name": "stdout",
     "output_type": "stream",
     "text": [
      "save to: /mnt/datassd2/crypto/dl_data/cs_dataset\n"
     ]
    }
   ],
   "source": [
    "dataset_path = data_save_path + 'cs_dataset'\n",
    "# mkdir\n",
    "if not os.path.exists(dataset_path):\n",
    "    os.makedirs(dataset_path)\n",
    "print('save to:', dataset_path)"
   ]
  },
  {
   "cell_type": "code",
   "execution_count": 30,
   "metadata": {},
   "outputs": [
    {
     "data": {
      "text/html": [
       "<div>\n",
       "<style scoped>\n",
       "    .dataframe tbody tr th:only-of-type {\n",
       "        vertical-align: middle;\n",
       "    }\n",
       "\n",
       "    .dataframe tbody tr th {\n",
       "        vertical-align: top;\n",
       "    }\n",
       "\n",
       "    .dataframe thead th {\n",
       "        text-align: right;\n",
       "    }\n",
       "</style>\n",
       "<table border=\"1\" class=\"dataframe\">\n",
       "  <thead>\n",
       "    <tr style=\"text-align: right;\">\n",
       "      <th>symbol</th>\n",
       "      <th>BTCUSDT</th>\n",
       "      <th>ETHUSDT</th>\n",
       "      <th>SOLUSDT</th>\n",
       "      <th>DOGEUSDT</th>\n",
       "      <th>XRPUSDT</th>\n",
       "      <th>1000PEPEUSDT</th>\n",
       "      <th>BNBUSDT</th>\n",
       "      <th>SUIUSDT</th>\n",
       "      <th>1000SHIBUSDT</th>\n",
       "      <th>WLDUSDT</th>\n",
       "      <th>...</th>\n",
       "      <th>BELUSDT</th>\n",
       "      <th>CAKEUSDT</th>\n",
       "      <th>BEAMXUSDT</th>\n",
       "      <th>TOKENUSDT</th>\n",
       "      <th>QTUMUSDT</th>\n",
       "      <th>KASUSDT</th>\n",
       "      <th>SUPERUSDT</th>\n",
       "      <th>LEVERUSDT</th>\n",
       "      <th>1INCHUSDT</th>\n",
       "      <th>FLOWUSDT</th>\n",
       "    </tr>\n",
       "    <tr>\n",
       "      <th>datetime</th>\n",
       "      <th></th>\n",
       "      <th></th>\n",
       "      <th></th>\n",
       "      <th></th>\n",
       "      <th></th>\n",
       "      <th></th>\n",
       "      <th></th>\n",
       "      <th></th>\n",
       "      <th></th>\n",
       "      <th></th>\n",
       "      <th></th>\n",
       "      <th></th>\n",
       "      <th></th>\n",
       "      <th></th>\n",
       "      <th></th>\n",
       "      <th></th>\n",
       "      <th></th>\n",
       "      <th></th>\n",
       "      <th></th>\n",
       "      <th></th>\n",
       "      <th></th>\n",
       "    </tr>\n",
       "  </thead>\n",
       "  <tbody>\n",
       "    <tr>\n",
       "      <th>2024-01-01 00:15:00</th>\n",
       "      <td>1.000000</td>\n",
       "      <td>1.000000</td>\n",
       "      <td>1.000000</td>\n",
       "      <td>1.000000</td>\n",
       "      <td>1.000000</td>\n",
       "      <td>1.000000</td>\n",
       "      <td>1.000000</td>\n",
       "      <td>1.000000</td>\n",
       "      <td>1.000000</td>\n",
       "      <td>1.000000</td>\n",
       "      <td>...</td>\n",
       "      <td>1.000000</td>\n",
       "      <td>1.000000</td>\n",
       "      <td>1.000000</td>\n",
       "      <td>1.000000</td>\n",
       "      <td>1.000000</td>\n",
       "      <td>1.000000</td>\n",
       "      <td>1.000000</td>\n",
       "      <td>1.000000</td>\n",
       "      <td>1.000000</td>\n",
       "      <td>1.000000</td>\n",
       "    </tr>\n",
       "    <tr>\n",
       "      <th>2024-01-01 00:30:00</th>\n",
       "      <td>1.000186</td>\n",
       "      <td>1.000509</td>\n",
       "      <td>1.000499</td>\n",
       "      <td>1.000275</td>\n",
       "      <td>0.999277</td>\n",
       "      <td>1.001406</td>\n",
       "      <td>0.999149</td>\n",
       "      <td>1.001842</td>\n",
       "      <td>1.001001</td>\n",
       "      <td>1.000743</td>\n",
       "      <td>...</td>\n",
       "      <td>1.002511</td>\n",
       "      <td>1.000863</td>\n",
       "      <td>0.997628</td>\n",
       "      <td>1.000455</td>\n",
       "      <td>1.003551</td>\n",
       "      <td>1.000745</td>\n",
       "      <td>1.000648</td>\n",
       "      <td>1.001455</td>\n",
       "      <td>1.003337</td>\n",
       "      <td>1.006414</td>\n",
       "    </tr>\n",
       "    <tr>\n",
       "      <th>2024-01-01 00:45:00</th>\n",
       "      <td>1.000574</td>\n",
       "      <td>1.000974</td>\n",
       "      <td>0.999173</td>\n",
       "      <td>0.999668</td>\n",
       "      <td>1.000272</td>\n",
       "      <td>1.001940</td>\n",
       "      <td>0.999249</td>\n",
       "      <td>1.002567</td>\n",
       "      <td>1.000089</td>\n",
       "      <td>1.005234</td>\n",
       "      <td>...</td>\n",
       "      <td>1.001656</td>\n",
       "      <td>1.002378</td>\n",
       "      <td>0.994370</td>\n",
       "      <td>1.005749</td>\n",
       "      <td>0.999538</td>\n",
       "      <td>1.001600</td>\n",
       "      <td>1.004303</td>\n",
       "      <td>1.001348</td>\n",
       "      <td>1.003410</td>\n",
       "      <td>0.998531</td>\n",
       "    </tr>\n",
       "    <tr>\n",
       "      <th>2024-01-01 01:00:00</th>\n",
       "      <td>1.000323</td>\n",
       "      <td>1.001085</td>\n",
       "      <td>1.002502</td>\n",
       "      <td>0.999423</td>\n",
       "      <td>1.001045</td>\n",
       "      <td>1.002008</td>\n",
       "      <td>1.001074</td>\n",
       "      <td>1.003708</td>\n",
       "      <td>1.000280</td>\n",
       "      <td>1.006882</td>\n",
       "      <td>...</td>\n",
       "      <td>1.002273</td>\n",
       "      <td>0.998437</td>\n",
       "      <td>0.997819</td>\n",
       "      <td>1.010361</td>\n",
       "      <td>0.988960</td>\n",
       "      <td>0.999612</td>\n",
       "      <td>1.003675</td>\n",
       "      <td>0.996634</td>\n",
       "      <td>0.990844</td>\n",
       "      <td>0.998106</td>\n",
       "    </tr>\n",
       "    <tr>\n",
       "      <th>2024-01-01 01:15:00</th>\n",
       "      <td>1.000762</td>\n",
       "      <td>1.001724</td>\n",
       "      <td>1.001795</td>\n",
       "      <td>1.000952</td>\n",
       "      <td>1.001212</td>\n",
       "      <td>1.006194</td>\n",
       "      <td>0.999741</td>\n",
       "      <td>1.005159</td>\n",
       "      <td>1.002583</td>\n",
       "      <td>1.019081</td>\n",
       "      <td>...</td>\n",
       "      <td>1.003245</td>\n",
       "      <td>1.002176</td>\n",
       "      <td>1.002822</td>\n",
       "      <td>1.008427</td>\n",
       "      <td>0.997170</td>\n",
       "      <td>1.001584</td>\n",
       "      <td>1.003552</td>\n",
       "      <td>0.996866</td>\n",
       "      <td>1.010220</td>\n",
       "      <td>0.999356</td>\n",
       "    </tr>\n",
       "    <tr>\n",
       "      <th>...</th>\n",
       "      <td>...</td>\n",
       "      <td>...</td>\n",
       "      <td>...</td>\n",
       "      <td>...</td>\n",
       "      <td>...</td>\n",
       "      <td>...</td>\n",
       "      <td>...</td>\n",
       "      <td>...</td>\n",
       "      <td>...</td>\n",
       "      <td>...</td>\n",
       "      <td>...</td>\n",
       "      <td>...</td>\n",
       "      <td>...</td>\n",
       "      <td>...</td>\n",
       "      <td>...</td>\n",
       "      <td>...</td>\n",
       "      <td>...</td>\n",
       "      <td>...</td>\n",
       "      <td>...</td>\n",
       "      <td>...</td>\n",
       "      <td>...</td>\n",
       "    </tr>\n",
       "    <tr>\n",
       "      <th>2025-02-14 22:45:00</th>\n",
       "      <td>1.000395</td>\n",
       "      <td>1.002171</td>\n",
       "      <td>1.003098</td>\n",
       "      <td>1.001035</td>\n",
       "      <td>1.015676</td>\n",
       "      <td>0.991907</td>\n",
       "      <td>0.975182</td>\n",
       "      <td>0.989843</td>\n",
       "      <td>0.998552</td>\n",
       "      <td>1.005225</td>\n",
       "      <td>...</td>\n",
       "      <td>1.039377</td>\n",
       "      <td>0.948989</td>\n",
       "      <td>0.989818</td>\n",
       "      <td>0.983309</td>\n",
       "      <td>0.995162</td>\n",
       "      <td>1.003272</td>\n",
       "      <td>1.010200</td>\n",
       "      <td>0.973111</td>\n",
       "      <td>0.994883</td>\n",
       "      <td>1.000554</td>\n",
       "    </tr>\n",
       "    <tr>\n",
       "      <th>2025-02-14 23:00:00</th>\n",
       "      <td>1.001269</td>\n",
       "      <td>1.004767</td>\n",
       "      <td>1.003826</td>\n",
       "      <td>1.003671</td>\n",
       "      <td>1.021015</td>\n",
       "      <td>0.995104</td>\n",
       "      <td>0.979838</td>\n",
       "      <td>0.992903</td>\n",
       "      <td>1.002595</td>\n",
       "      <td>1.013239</td>\n",
       "      <td>...</td>\n",
       "      <td>1.038679</td>\n",
       "      <td>0.954175</td>\n",
       "      <td>0.995331</td>\n",
       "      <td>0.989962</td>\n",
       "      <td>1.000809</td>\n",
       "      <td>1.006172</td>\n",
       "      <td>1.016264</td>\n",
       "      <td>0.979250</td>\n",
       "      <td>0.996063</td>\n",
       "      <td>1.002397</td>\n",
       "    </tr>\n",
       "    <tr>\n",
       "      <th>2025-02-14 23:15:00</th>\n",
       "      <td>1.002259</td>\n",
       "      <td>1.004843</td>\n",
       "      <td>1.003010</td>\n",
       "      <td>1.005381</td>\n",
       "      <td>1.021068</td>\n",
       "      <td>1.001026</td>\n",
       "      <td>0.977605</td>\n",
       "      <td>0.995739</td>\n",
       "      <td>1.002839</td>\n",
       "      <td>1.013128</td>\n",
       "      <td>...</td>\n",
       "      <td>1.038219</td>\n",
       "      <td>0.950850</td>\n",
       "      <td>0.999517</td>\n",
       "      <td>0.990510</td>\n",
       "      <td>1.001085</td>\n",
       "      <td>1.006790</td>\n",
       "      <td>1.017372</td>\n",
       "      <td>0.985342</td>\n",
       "      <td>0.996500</td>\n",
       "      <td>1.002349</td>\n",
       "    </tr>\n",
       "    <tr>\n",
       "      <th>2025-02-14 23:30:00</th>\n",
       "      <td>1.003249</td>\n",
       "      <td>1.004302</td>\n",
       "      <td>1.002359</td>\n",
       "      <td>1.007857</td>\n",
       "      <td>1.025521</td>\n",
       "      <td>1.004255</td>\n",
       "      <td>0.981720</td>\n",
       "      <td>0.997227</td>\n",
       "      <td>1.006913</td>\n",
       "      <td>1.015259</td>\n",
       "      <td>...</td>\n",
       "      <td>1.031075</td>\n",
       "      <td>0.957269</td>\n",
       "      <td>0.999962</td>\n",
       "      <td>0.992806</td>\n",
       "      <td>1.001940</td>\n",
       "      <td>1.006840</td>\n",
       "      <td>1.017805</td>\n",
       "      <td>0.988135</td>\n",
       "      <td>0.995130</td>\n",
       "      <td>1.000449</td>\n",
       "    </tr>\n",
       "    <tr>\n",
       "      <th>2025-02-14 23:45:00</th>\n",
       "      <td>1.003924</td>\n",
       "      <td>1.004798</td>\n",
       "      <td>1.002953</td>\n",
       "      <td>1.008064</td>\n",
       "      <td>1.024233</td>\n",
       "      <td>1.012055</td>\n",
       "      <td>0.986387</td>\n",
       "      <td>0.996704</td>\n",
       "      <td>1.005713</td>\n",
       "      <td>1.020126</td>\n",
       "      <td>...</td>\n",
       "      <td>1.030441</td>\n",
       "      <td>0.958500</td>\n",
       "      <td>1.001966</td>\n",
       "      <td>0.994706</td>\n",
       "      <td>1.003654</td>\n",
       "      <td>1.007722</td>\n",
       "      <td>1.018359</td>\n",
       "      <td>0.988164</td>\n",
       "      <td>0.995226</td>\n",
       "      <td>1.000440</td>\n",
       "    </tr>\n",
       "  </tbody>\n",
       "</table>\n",
       "<p>39455 rows × 120 columns</p>\n",
       "</div>"
      ],
      "text/plain": [
       "symbol                BTCUSDT   ETHUSDT   SOLUSDT  DOGEUSDT   XRPUSDT  \\\n",
       "datetime                                                                \n",
       "2024-01-01 00:15:00  1.000000  1.000000  1.000000  1.000000  1.000000   \n",
       "2024-01-01 00:30:00  1.000186  1.000509  1.000499  1.000275  0.999277   \n",
       "2024-01-01 00:45:00  1.000574  1.000974  0.999173  0.999668  1.000272   \n",
       "2024-01-01 01:00:00  1.000323  1.001085  1.002502  0.999423  1.001045   \n",
       "2024-01-01 01:15:00  1.000762  1.001724  1.001795  1.000952  1.001212   \n",
       "...                       ...       ...       ...       ...       ...   \n",
       "2025-02-14 22:45:00  1.000395  1.002171  1.003098  1.001035  1.015676   \n",
       "2025-02-14 23:00:00  1.001269  1.004767  1.003826  1.003671  1.021015   \n",
       "2025-02-14 23:15:00  1.002259  1.004843  1.003010  1.005381  1.021068   \n",
       "2025-02-14 23:30:00  1.003249  1.004302  1.002359  1.007857  1.025521   \n",
       "2025-02-14 23:45:00  1.003924  1.004798  1.002953  1.008064  1.024233   \n",
       "\n",
       "symbol               1000PEPEUSDT   BNBUSDT   SUIUSDT  1000SHIBUSDT   WLDUSDT  \\\n",
       "datetime                                                                        \n",
       "2024-01-01 00:15:00      1.000000  1.000000  1.000000      1.000000  1.000000   \n",
       "2024-01-01 00:30:00      1.001406  0.999149  1.001842      1.001001  1.000743   \n",
       "2024-01-01 00:45:00      1.001940  0.999249  1.002567      1.000089  1.005234   \n",
       "2024-01-01 01:00:00      1.002008  1.001074  1.003708      1.000280  1.006882   \n",
       "2024-01-01 01:15:00      1.006194  0.999741  1.005159      1.002583  1.019081   \n",
       "...                           ...       ...       ...           ...       ...   \n",
       "2025-02-14 22:45:00      0.991907  0.975182  0.989843      0.998552  1.005225   \n",
       "2025-02-14 23:00:00      0.995104  0.979838  0.992903      1.002595  1.013239   \n",
       "2025-02-14 23:15:00      1.001026  0.977605  0.995739      1.002839  1.013128   \n",
       "2025-02-14 23:30:00      1.004255  0.981720  0.997227      1.006913  1.015259   \n",
       "2025-02-14 23:45:00      1.012055  0.986387  0.996704      1.005713  1.020126   \n",
       "\n",
       "symbol               ...   BELUSDT  CAKEUSDT  BEAMXUSDT  TOKENUSDT  QTUMUSDT  \\\n",
       "datetime             ...                                                       \n",
       "2024-01-01 00:15:00  ...  1.000000  1.000000   1.000000   1.000000  1.000000   \n",
       "2024-01-01 00:30:00  ...  1.002511  1.000863   0.997628   1.000455  1.003551   \n",
       "2024-01-01 00:45:00  ...  1.001656  1.002378   0.994370   1.005749  0.999538   \n",
       "2024-01-01 01:00:00  ...  1.002273  0.998437   0.997819   1.010361  0.988960   \n",
       "2024-01-01 01:15:00  ...  1.003245  1.002176   1.002822   1.008427  0.997170   \n",
       "...                  ...       ...       ...        ...        ...       ...   \n",
       "2025-02-14 22:45:00  ...  1.039377  0.948989   0.989818   0.983309  0.995162   \n",
       "2025-02-14 23:00:00  ...  1.038679  0.954175   0.995331   0.989962  1.000809   \n",
       "2025-02-14 23:15:00  ...  1.038219  0.950850   0.999517   0.990510  1.001085   \n",
       "2025-02-14 23:30:00  ...  1.031075  0.957269   0.999962   0.992806  1.001940   \n",
       "2025-02-14 23:45:00  ...  1.030441  0.958500   1.001966   0.994706  1.003654   \n",
       "\n",
       "symbol                KASUSDT  SUPERUSDT  LEVERUSDT  1INCHUSDT  FLOWUSDT  \n",
       "datetime                                                                  \n",
       "2024-01-01 00:15:00  1.000000   1.000000   1.000000   1.000000  1.000000  \n",
       "2024-01-01 00:30:00  1.000745   1.000648   1.001455   1.003337  1.006414  \n",
       "2024-01-01 00:45:00  1.001600   1.004303   1.001348   1.003410  0.998531  \n",
       "2024-01-01 01:00:00  0.999612   1.003675   0.996634   0.990844  0.998106  \n",
       "2024-01-01 01:15:00  1.001584   1.003552   0.996866   1.010220  0.999356  \n",
       "...                       ...        ...        ...        ...       ...  \n",
       "2025-02-14 22:45:00  1.003272   1.010200   0.973111   0.994883  1.000554  \n",
       "2025-02-14 23:00:00  1.006172   1.016264   0.979250   0.996063  1.002397  \n",
       "2025-02-14 23:15:00  1.006790   1.017372   0.985342   0.996500  1.002349  \n",
       "2025-02-14 23:30:00  1.006840   1.017805   0.988135   0.995130  1.000449  \n",
       "2025-02-14 23:45:00  1.007722   1.018359   0.988164   0.995226  1.000440  \n",
       "\n",
       "[39455 rows x 120 columns]"
      ]
     },
     "execution_count": 30,
     "metadata": {},
     "output_type": "execute_result"
    }
   ],
   "source": [
    "factors_df_top50"
   ]
  },
  {
   "cell_type": "code",
   "execution_count": 25,
   "metadata": {},
   "outputs": [],
   "source": [
    "X.to_parquet(os.path.join(dataset_path, \"X.parquet\"))\n",
    "y.to_parquet(os.path.join(dataset_path, \"y.parquet\"))\n",
    "with open(os.path.join(dataset_path, \"extra_data.pkl\"), 'wb') as f:\n",
    "    pickle.dump(extra_data, f)"
   ]
  },
  {
   "cell_type": "code",
   "execution_count": 26,
   "metadata": {},
   "outputs": [],
   "source": [
    "X = pd.read_parquet(os.path.join(dataset_path, \"X.parquet\")).values"
   ]
  },
  {
   "cell_type": "code",
   "execution_count": 27,
   "metadata": {},
   "outputs": [
    {
     "data": {
      "text/plain": [
       "(39455, 120)"
      ]
     },
     "execution_count": 27,
     "metadata": {},
     "output_type": "execute_result"
    }
   ],
   "source": [
    "X.shape"
   ]
  },
  {
   "cell_type": "code",
   "execution_count": 28,
   "metadata": {},
   "outputs": [
    {
     "data": {
      "text/plain": [
       "(39455, 120)"
      ]
     },
     "execution_count": 28,
     "metadata": {},
     "output_type": "execute_result"
    }
   ],
   "source": [
    "y.shape"
   ]
  },
  {
   "cell_type": "code",
   "execution_count": null,
   "metadata": {},
   "outputs": [],
   "source": []
  }
 ],
 "metadata": {
  "kernelspec": {
   "display_name": "nerv310",
   "language": "python",
   "name": "python3"
  },
  "language_info": {
   "codemirror_mode": {
    "name": "ipython",
    "version": 3
   },
   "file_extension": ".py",
   "mimetype": "text/x-python",
   "name": "python",
   "nbconvert_exporter": "python",
   "pygments_lexer": "ipython3",
   "version": "3.10.13"
  }
 },
 "nbformat": 4,
 "nbformat_minor": 2
}
